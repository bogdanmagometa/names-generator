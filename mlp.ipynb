{
 "cells": [
  {
   "attachments": {},
   "cell_type": "markdown",
   "metadata": {},
   "source": [
    "# Implement names generator\n",
    "\n",
    "Use architecture from Bengio et al"
   ]
  },
  {
   "cell_type": "code",
   "execution_count": 1,
   "metadata": {},
   "outputs": [],
   "source": [
    "import time\n",
    "import random\n",
    "\n",
    "import torch\n",
    "import matplotlib.pyplot as plt\n",
    "import numpy as np"
   ]
  },
  {
   "cell_type": "code",
   "execution_count": 63,
   "metadata": {},
   "outputs": [],
   "source": [
    "# plt.style.use('classic')\n",
    "plt.style.use('dark_background')"
   ]
  },
  {
   "cell_type": "code",
   "execution_count": 2,
   "metadata": {},
   "outputs": [
    {
     "data": {
      "text/plain": [
       "True"
      ]
     },
     "execution_count": 2,
     "metadata": {},
     "output_type": "execute_result"
    }
   ],
   "source": [
    "torch.cuda.is_available()"
   ]
  },
  {
   "cell_type": "code",
   "execution_count": 3,
   "metadata": {},
   "outputs": [],
   "source": [
    "def move_to_device(tensors, device):\n",
    "    new_tensors = [None] * len(tensors)\n",
    "    with torch.no_grad():\n",
    "        for idx, tensor in enumerate(tensors):\n",
    "            new_tensors[idx] = tensor.to(device, copy=True)\n",
    "    return new_tensors"
   ]
  },
  {
   "attachments": {},
   "cell_type": "markdown",
   "metadata": {},
   "source": [
    "### Prepare dataset"
   ]
  },
  {
   "cell_type": "code",
   "execution_count": 4,
   "metadata": {},
   "outputs": [],
   "source": [
    "with open('names.txt', 'r') as f:\n",
    "    words = f.read().splitlines()\n",
    "    random.shuffle(words)\n"
   ]
  },
  {
   "cell_type": "code",
   "execution_count": 39,
   "metadata": {},
   "outputs": [],
   "source": [
    "block_size = 4"
   ]
  },
  {
   "cell_type": "code",
   "execution_count": 40,
   "metadata": {},
   "outputs": [],
   "source": [
    "all_letters = set(sum((list(s) for s in words), []))"
   ]
  },
  {
   "cell_type": "code",
   "execution_count": 41,
   "metadata": {},
   "outputs": [],
   "source": [
    "all_symbols = all_letters.union({'.'})\n",
    "stoi = {'.': 0}\n",
    "stoi.update({letter: idx for idx, letter in enumerate(all_letters, 1)})\n",
    "itos = {idx: letter for letter, idx in stoi.items()}\n",
    "\n",
    "# create dataset\n",
    "X = list()\n",
    "y = list()\n",
    "for word in words:\n",
    "    word = block_size * '.' + word + '.'\n",
    "    for idx in range(block_size, len(word)):\n",
    "        prev = word[(idx-block_size):idx]\n",
    "        X.append(list(stoi[s] for s in prev))\n",
    "        y.append(stoi[word[idx]])\n",
    "\n",
    "X = torch.tensor(X)\n",
    "y = torch.tensor(y)"
   ]
  },
  {
   "cell_type": "code",
   "execution_count": 42,
   "metadata": {},
   "outputs": [],
   "source": [
    "def split_dataset(X, y):\n",
    "    total_len = X.shape[0]\n",
    "    \n",
    "    n1 = int(0.8 * total_len)\n",
    "    n2 = int(0.9 * total_len)\n",
    "\n",
    "    return (X[:n1], y[:n1]), (X[n1:n2], y[n1:n2]), (X[n2:], y[n2:])\n",
    "\n",
    "    # num_tr = round(0.6 * total_len)\n",
    "    # num_val = round(0.2 * total_len)\n",
    "    # num_test = total_len - num_tr - num_val\n",
    "    # idx_tr, idx_val, idx_test = torch.utils.data.random_split(range(X.shape[0]), [num_tr, num_val, num_test])\n",
    "    # return (X[idx_tr], y[idx_tr]), (X[idx_val], y[idx_val]), (X[idx_test], y[idx_test])"
   ]
  },
  {
   "cell_type": "code",
   "execution_count": 43,
   "metadata": {},
   "outputs": [],
   "source": [
    "(Xtr, ytr), (Xval, yval), (Xtest, ytest) = split_dataset(X, y)"
   ]
  },
  {
   "cell_type": "code",
   "execution_count": 88,
   "metadata": {},
   "outputs": [
    {
     "data": {
      "image/png": "[encoded data removed]",
      "text/plain": [
       "<Figure size 640x480 with 1 Axes>"
      ]
     },
     "metadata": {},
     "output_type": "display_data"
    }
   ],
   "source": [
    "_, ax = plt.subplots(1, 1)\n",
    "ax.set_title(\"Dataset split\")\n",
    "ax.set_xlabel(\"Partitions\")\n",
    "ax.set_ylabel(\"Number of samples\")\n",
    "ax.bar(['train', 'validation', 'test'], [len(Xtr), len(Xval), len(Xtest)])\n",
    "plt.show()"
   ]
  },
  {
   "cell_type": "markdown",
   "metadata": {},
   "source": [
    "### Define model class, loss and training loop"
   ]
  },
  {
   "cell_type": "code",
   "execution_count": 89,
   "metadata": {},
   "outputs": [],
   "source": [
    "class Introspector:\n",
    "    def __init__(self):\n",
    "        self.first_layer_volume = None\n",
    "        self.second_layer_activations = None\n",
    "        self.third_layer_activations = None"
   ]
  },
  {
   "cell_type": "code",
   "execution_count": 96,
   "metadata": {},
   "outputs": [],
   "source": [
    "class Model:\n",
    "    def __init__(self):\n",
    "        # HPs\n",
    "        self.embeddings_len = 15\n",
    "        self.hidden_nodes1 = 400\n",
    "        # self.hidden_nodes2 = 400\n",
    "\n",
    "        # Initialize parameters        \n",
    "        self.C = torch.randn((len(all_symbols), self.embeddings_len)) # matrix of embeddings\n",
    "        self.C.requires_grad = True\n",
    "\n",
    "        self.biases1 = torch.randn(self.hidden_nodes1) * 0.01\n",
    "        self.biases1.requires_grad = True\n",
    "\n",
    "        self.weights1 = torch.randn((block_size * self.embeddings_len, self.hidden_nodes1)) * ((5 / 3) / np.sqrt(block_size * self.embeddings_len))\n",
    "        self.weights1.requires_grad = True\n",
    "\n",
    "        # self.biases2 = torch.randn(self.hidden_nodes2) * 0.01\n",
    "        # self.biases2.requires_grad = True\n",
    "\n",
    "        # self.weights2 = torch.randn((self.hidden_nodes1, self.hidden_nodes2)) * ((5 / 3) / np.sqrt(self.hidden_nodes1))\n",
    "        # self.weights2.requires_grad = True\n",
    "\n",
    "        self.biases2 = torch.randn(len(all_symbols)) * 0.01\n",
    "        self.biases2.requires_grad = True\n",
    "\n",
    "        self.weights2 = torch.randn((self.hidden_nodes1, len(all_symbols))) * (1 / np.sqrt(self.hidden_nodes1)) * 0.5\n",
    "        self.weights2.requires_grad = True\n",
    "        \n",
    "        self.introspector = Introspector()\n",
    "\n",
    "    def create_preds(self, X):\n",
    "        c = self.C[X]\n",
    "\n",
    "        first_layer_volume = c.view(X.shape[0], -1)\n",
    "\n",
    "        second_layer_volume = (first_layer_volume @ self.weights1) + self.biases1\n",
    "        second_layer_activations = torch.tanh(second_layer_volume)\n",
    "\n",
    "        third_layer_volume = (second_layer_activations @ self.weights2) + self.biases2\n",
    "        third_layer_activations = torch.softmax(third_layer_volume, 1)\n",
    "\n",
    "        self.introspector.first_layer_volume = first_layer_volume\n",
    "        self.introspector.second_layer_activations = second_layer_activations\n",
    "        self.introspector.third_layer_activations = third_layer_activations\n",
    "\n",
    "        return third_layer_activations\n",
    "\n",
    "    def parameters(self):\n",
    "        return [self.C, self.biases1, self.weights1, self.biases2, self.weights2]\n",
    "\n",
    "    def move_to_device(self, device):\n",
    "        parameters = move_to_device(self.parameters(), device)\n",
    "        for p in parameters:\n",
    "            p.requires_grad = True\n",
    "        self.C, self.biases1, self.weights1, self.biases2, self.weights2 = parameters\n"
   ]
  },
  {
   "cell_type": "code",
   "execution_count": 97,
   "metadata": {},
   "outputs": [],
   "source": [
    "def create_loss(predictions, actual):\n",
    "    return - predictions[range(len(predictions)), actual].log().mean()\n"
   ]
  },
  {
   "cell_type": "code",
   "execution_count": 98,
   "metadata": {},
   "outputs": [],
   "source": [
    "def training_loop(model: Model, num_iters, batch_size, lr):\n",
    "    start_ts = time.time()\n",
    "    \n",
    "    print(f\"Iter #0\", )\n",
    "    with torch.no_grad():\n",
    "        train_loss = create_loss(model.create_preds(Xtr), ytr).item()\n",
    "        val_loss = create_loss(model.create_preds(Xval), yval).item()\n",
    "    print(f\"\\ttrain_loss = {train_loss:.2f}\")\n",
    "    print(f\"\\tval_loss = {val_loss:.2f}\\n\")\n",
    "\n",
    "    for num_iter in range(num_iters):\n",
    "        # get batch\n",
    "        indices = torch.randint(0, len(Xtr) - 1, (batch_size,))\n",
    "        batch_X = Xtr[indices]\n",
    "        batch_y = ytr[indices]\n",
    "        # batch_X = Xtr\n",
    "        # batch_y = ytr\n",
    "        \n",
    "        # calculate loss\n",
    "        loss = create_loss(model.create_preds(batch_X), batch_y)\n",
    "\n",
    "        # zerograd\n",
    "        for parameter_tensor in model.parameters():\n",
    "            parameter_tensor.grad = None\n",
    "\n",
    "        # backprop\n",
    "        loss.backward()\n",
    "\n",
    "        # update weights\n",
    "        for parameter_tensor in model.parameters():\n",
    "            parameter_tensor.data -= lr * parameter_tensor.grad\n",
    "\n",
    "        # display train and validation losses\n",
    "        if ((num_iter + 1) % 10_000) == 0:\n",
    "            print(f\"Iter #{num_iter+1}\", )\n",
    "            with torch.no_grad():\n",
    "                train_loss = create_loss(model.create_preds(Xtr), ytr).item()\n",
    "                val_loss = create_loss(model.create_preds(Xval), yval).item()\n",
    "            print(f\"\\ttrain_loss = {train_loss:.2f}\")\n",
    "            print(f\"\\tval_loss = {val_loss:.2f}\\n\")\n",
    "\n",
    "        # if time.time() - start_ts >= max_time:\n",
    "        #     break\n"
   ]
  },
  {
   "cell_type": "markdown",
   "metadata": {},
   "source": [
    "### Train the model and validate HPs"
   ]
  },
  {
   "cell_type": "code",
   "execution_count": 99,
   "metadata": {},
   "outputs": [],
   "source": [
    "# Create model\n",
    "model = Model()\n",
    "\n",
    "# Move to device\n",
    "# device = torch.device('cuda', 0)\n",
    "device = torch.device('cpu')\n",
    "model.move_to_device(device)\n",
    "Xtr, ytr, Xval, yval = move_to_device(\n",
    "    [\n",
    "        Xtr, ytr, Xval, yval\n",
    "    ],\n",
    "    device\n",
    ")"
   ]
  },
  {
   "cell_type": "code",
   "execution_count": 100,
   "metadata": {},
   "outputs": [
    {
     "name": "stdout",
     "output_type": "stream",
     "text": [
      "Iter #0\n",
      "\ttrain_loss = 3.33\n",
      "\tval_loss = 3.32\n",
      "\n",
      "Iter #10000\n",
      "\ttrain_loss = 2.21\n",
      "\tval_loss = 2.25\n",
      "\n",
      "Iter #20000\n",
      "\ttrain_loss = 2.15\n",
      "\tval_loss = 2.21\n",
      "\n",
      "Iter #30000\n",
      "\ttrain_loss = 2.12\n",
      "\tval_loss = 2.20\n",
      "\n",
      "Iter #40000\n",
      "\ttrain_loss = 2.07\n",
      "\tval_loss = 2.16\n",
      "\n",
      "Iter #50000\n",
      "\ttrain_loss = 2.05\n",
      "\tval_loss = 2.16\n",
      "\n",
      "Iter #0\n",
      "\ttrain_loss = 2.05\n",
      "\tval_loss = 2.16\n",
      "\n",
      "Iter #10000\n",
      "\ttrain_loss = 1.94\n",
      "\tval_loss = 2.04\n",
      "\n",
      "Iter #20000\n",
      "\ttrain_loss = 1.93\n",
      "\tval_loss = 2.03\n",
      "\n",
      "Iter #30000\n",
      "\ttrain_loss = 1.92\n",
      "\tval_loss = 2.03\n",
      "\n",
      "Iter #40000\n",
      "\ttrain_loss = 1.92\n",
      "\tval_loss = 2.03\n",
      "\n",
      "Iter #50000\n",
      "\ttrain_loss = 1.92\n",
      "\tval_loss = 2.03\n",
      "\n",
      "Iter #0\n",
      "\ttrain_loss = 1.92\n",
      "\tval_loss = 2.03\n",
      "\n",
      "Iter #10000\n",
      "\ttrain_loss = 1.92\n",
      "\tval_loss = 2.02\n",
      "\n",
      "Iter #20000\n",
      "\ttrain_loss = 1.92\n",
      "\tval_loss = 2.02\n",
      "\n",
      "Iter #30000\n",
      "\ttrain_loss = 1.92\n",
      "\tval_loss = 2.02\n",
      "\n",
      "Iter #40000\n",
      "\ttrain_loss = 1.92\n",
      "\tval_loss = 2.02\n",
      "\n",
      "Iter #50000\n",
      "\ttrain_loss = 1.92\n",
      "\tval_loss = 2.02\n",
      "\n"
     ]
    }
   ],
   "source": [
    "batch_size = 32\n",
    "\n",
    "lr = 0.1\n",
    "training_loop(model, 50_000, batch_size, lr)\n",
    "\n",
    "lr = 0.001\n",
    "training_loop(model, 50_000, batch_size, lr)\n",
    "\n",
    "lr = 0.0001\n",
    "training_loop(model, 50_000, batch_size, lr)"
   ]
  },
  {
   "cell_type": "markdown",
   "metadata": {},
   "source": [
    "Validate different combinations to choose the one that produces the lowest score after one minute of training.\n",
    "\n",
    "The results are available in `1min_validate_hps.txt`"
   ]
  },
  {
   "cell_type": "code",
   "execution_count": null,
   "metadata": {},
   "outputs": [],
   "source": [
    "for device in ['cpu', 'cuda:0']:\n",
    "    for batch_size in [1, 64, 1024]:\n",
    "        for lr in [0.01, 0.1]:\n",
    "            model = Model()\n",
    "            model.move_to_device(device)\n",
    "            training_loop(model, 10**100, batch_size, lr, 60)\n",
    "            print(\"Loss for config\")\n",
    "            print(f\"\\tdevice = {device}\")\n",
    "            print(f\"\\tbatch_size = {batch_size}\")\n",
    "            print(f\"\\tlr = {lr}\")\n",
    "            print(create_loss(model.create_preds(Xtr), ytr).item())\n",
    "            print(\"-\" * 50)"
   ]
  },
  {
   "cell_type": "markdown",
   "metadata": {},
   "source": [
    "### \"Model introspection\""
   ]
  },
  {
   "cell_type": "markdown",
   "metadata": {},
   "source": [
    "The loss when all labels are given equal probability (no reason to give higher probability to one of the labels):"
   ]
  },
  {
   "cell_type": "code",
   "execution_count": 19,
   "metadata": {},
   "outputs": [
    {
     "name": "stdout",
     "output_type": "stream",
     "text": [
      "\"Expected\" loss: 3.295836866004329\n"
     ]
    }
   ],
   "source": [
    "print('\"Expected\" loss:', -np.log(1 / len(all_symbols)))"
   ]
  },
  {
   "cell_type": "code",
   "execution_count": 82,
   "metadata": {},
   "outputs": [
    {
     "name": "stdout",
     "output_type": "stream",
     "text": [
      "Actual loss: 3.35502290725708\n"
     ]
    }
   ],
   "source": [
    "model_ = Model()\n",
    "loss = create_loss(model_.create_preds(Xtr), ytr)\n",
    "\n",
    "print('Actual loss:', loss.item())"
   ]
  },
  {
   "cell_type": "code",
   "execution_count": 76,
   "metadata": {},
   "outputs": [
    {
     "data": {
      "image/png": "[encoded data removed]",
      "text/plain": [
       "<Figure size 640x480 with 1 Axes>"
      ]
     },
     "metadata": {},
     "output_type": "display_data"
    }
   ],
   "source": [
    "s = model_.introspector.third_layer_activations[list(range(len(ytr))), ytr]\n",
    "plt.figure()\n",
    "plt.title(\"Distribution of probabilities for the correct label after first forward pass\", pad=20)\n",
    "plt.hist(s.detach().numpy(), label='Observed softmax activations')\n",
    "plt.axvline(x=1/len(all_symbols), color='r', label='Expected softmax activation')\n",
    "plt.legend()\n",
    "plt.show()"
   ]
  },
  {
   "cell_type": "code",
   "execution_count": 72,
   "metadata": {},
   "outputs": [
    {
     "name": "stderr",
     "output_type": "stream",
     "text": [
      "/tmp/ipykernel_7854/1668140508.py:4: RuntimeWarning: divide by zero encountered in arctanh\n",
      "  ax[0].scatter(np.arctanh(acts), acts, marker='.')\n"
     ]
    },
    {
     "data": {
      "image/png": "[encoded data removed]",
      "text/plain": [
       "<Figure size 1600x320 with 2 Axes>"
      ]
     },
     "metadata": {},
     "output_type": "display_data"
    }
   ],
   "source": [
    "acts = model_.introspector.second_layer_activations.detach().numpy().reshape(-1)\n",
    "fig, ax = plt.subplots(1, 2, figsize=(20, 4), sharey=True)\n",
    "fig.suptitle(\"Activations of second layer\")\n",
    "ax[0].scatter(np.arctanh(acts), acts, marker='.')\n",
    "ax[0].set_xlabel('logit')\n",
    "ax[0].set_ylabel('activation')\n",
    "ax[1].set_title('Histogram')\n",
    "ax[1].hist(acts, orientation='horizontal', bins=50)\n",
    "ax[1].set_ylabel('activation')\n",
    "plt.show()"
   ]
  },
  {
   "cell_type": "markdown",
   "metadata": {},
   "source": [
    "### Differentiation of a cross-entropy of a single example with respect to the $j^{th}$ logit.\n",
    "$w_t$-th logit corresponds to the true label"
   ]
  },
  {
   "cell_type": "markdown",
   "metadata": {},
   "source": [
    "$$\n",
    "L = log(p_{w_t})\n",
    "$$\n",
    "$$\n",
    "L = log(p_{w_t}) = log(\\frac{e^{y_{w_t}}}{\\sum e^{y_i}})\n",
    "$$"
   ]
  },
  {
   "cell_type": "markdown",
   "metadata": {},
   "source": [
    "$$\n",
    "\\frac{\\partial L}{\\partial y_{w_t}} = \\frac{1}{p_{w_t}} \\cdot \\frac{e^{y_{w_t}} (\\sum e^{y_i}) - e^{2 y_{w_t}}}{(\\sum e^{y_i})^2}\n",
    "$$"
   ]
  },
  {
   "cell_type": "markdown",
   "metadata": {},
   "source": [
    "$$\n",
    "\\frac{\\partial L}{\\partial y_{w_t}} = \\frac{1}{p_{w_t}} \\cdot (p_{w_t} - p_{w_t}^2) = 1 - p_{w_t}\n",
    "$$"
   ]
  },
  {
   "cell_type": "markdown",
   "metadata": {},
   "source": [
    "$$\n",
    "\\frac{\\partial L}{\\partial y_{j}} = \\frac{- e^{y_{j}}}{\\sum e^{y_i}} = - p_j\n",
    "$$"
   ]
  }
 ],
 "metadata": {
  "kernelspec": {
   "display_name": "base",
   "language": "python",
   "name": "python3"
  },
  "language_info": {
   "codemirror_mode": {
    "name": "ipython",
    "version": 3
   },
   "file_extension": ".py",
   "mimetype": "text/x-python",
   "name": "python",
   "nbconvert_exporter": "python",
   "pygments_lexer": "ipython3",
   "version": "3.10.9"
  },
  "orig_nbformat": 4
 },
 "nbformat": 4,
 "nbformat_minor": 2
}
