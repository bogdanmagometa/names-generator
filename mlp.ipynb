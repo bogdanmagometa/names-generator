{
 "cells": [
  {
   "attachments": {},
   "cell_type": "markdown",
   "metadata": {},
   "source": [
    "# Implement names generator\n",
    "\n",
    "Use architecture from Bengio et al"
   ]
  },
  {
   "cell_type": "code",
   "execution_count": 1,
   "metadata": {},
   "outputs": [],
   "source": [
    "import time\n",
    "\n",
    "import torch\n",
    "import matplotlib.pyplot as plt\n",
    "import numpy as np"
   ]
  },
  {
   "cell_type": "code",
   "execution_count": 2,
   "metadata": {},
   "outputs": [],
   "source": [
    "def move_to_device(tensors, device):\n",
    "    new_tensors = [None] * len(tensors)\n",
    "    for idx, tensor in enumerate(tensors):\n",
    "        new_tensors[idx] = tensor.to(device)\n",
    "    return new_tensors"
   ]
  },
  {
   "cell_type": "code",
   "execution_count": 3,
   "metadata": {},
   "outputs": [],
   "source": [
    "device = torch.device('cuda', 0)"
   ]
  },
  {
   "attachments": {},
   "cell_type": "markdown",
   "metadata": {},
   "source": [
    "Prepare dataset:"
   ]
  },
  {
   "cell_type": "code",
   "execution_count": 4,
   "metadata": {},
   "outputs": [],
   "source": [
    "with open('names.txt', 'r') as f:\n",
    "    words = f.read().splitlines()\n"
   ]
  },
  {
   "cell_type": "code",
   "execution_count": 5,
   "metadata": {},
   "outputs": [],
   "source": [
    "block_size = 3"
   ]
  },
  {
   "cell_type": "code",
   "execution_count": 6,
   "metadata": {},
   "outputs": [],
   "source": [
    "all_letters = set(sum((list(s) for s in words), []))"
   ]
  },
  {
   "cell_type": "code",
   "execution_count": 7,
   "metadata": {},
   "outputs": [],
   "source": [
    "all_symbols = all_letters.union({'.'})\n",
    "stoi = {'.': 0}\n",
    "stoi.update({letter: idx for idx, letter in enumerate(all_letters, 1)})\n",
    "\n",
    "# create dataset\n",
    "X = list()\n",
    "y = list()\n",
    "for word in words:\n",
    "    word = block_size * '.' + word + '.'\n",
    "    for idx in range(block_size, len(word)):\n",
    "        prev = word[(idx-block_size):idx]\n",
    "        X.append(list(stoi[s] for s in prev))\n",
    "        y.append(stoi[word[idx]])\n",
    "\n",
    "X = torch.tensor(X, device=device)\n",
    "y = torch.tensor(y, device=device)"
   ]
  },
  {
   "cell_type": "code",
   "execution_count": 8,
   "metadata": {},
   "outputs": [],
   "source": [
    "def split_dataset(X, y):\n",
    "    total_len = X.shape[0]\n",
    "    num_tr = round(0.6 * total_len)\n",
    "    num_val = round(0.2 * total_len)\n",
    "    num_test = total_len - num_tr - num_val\n",
    "    idx_tr, idx_val, idx_test = torch.utils.data.random_split(range(X.shape[0]), [num_tr, num_val, num_test])\n",
    "    return (X[idx_tr], y[idx_tr]), (X[idx_val], y[idx_val]), (X[idx_test], y[idx_test])"
   ]
  },
  {
   "cell_type": "code",
   "execution_count": 9,
   "metadata": {},
   "outputs": [],
   "source": [
    "(Xtr, ytr), (Xval, yval), (Xtest, ytest) = split_dataset(X, y)"
   ]
  },
  {
   "cell_type": "code",
   "execution_count": 10,
   "metadata": {},
   "outputs": [
    {
     "data": {
      "image/png": "[encoded data removed]",
      "text/plain": [
       "<Figure size 640x480 with 1 Axes>"
      ]
     },
     "metadata": {},
     "output_type": "display_data"
    }
   ],
   "source": [
    "_, ax = plt.subplots(1, 1)\n",
    "ax.set_title(\"Dataset split\")\n",
    "ax.set_xlabel(\"Partitions\")\n",
    "ax.set_ylabel(\"Number of samples\")\n",
    "ax.bar(['train', 'validation', 'test'], [len(Xtr), len(Xval), len(Xtest)])\n",
    "plt.show()"
   ]
  },
  {
   "cell_type": "code",
   "execution_count": 11,
   "metadata": {},
   "outputs": [],
   "source": [
    "embeddings_len = 60"
   ]
  },
  {
   "cell_type": "code",
   "execution_count": 51,
   "metadata": {},
   "outputs": [],
   "source": [
    "# Initialize parameters\n",
    "C = torch.randn((len(all_symbols), embeddings_len), device=device) # matrix of embeddings\n",
    "C.requires_grad = True\n",
    "\n",
    "hidden_nodes = 60\n",
    "\n",
    "biases1 = torch.randn(hidden_nodes, device=device) * 0.01\n",
    "biases1.requires_grad = True\n",
    "\n",
    "weights1 = torch.randn((block_size * embeddings_len, hidden_nodes), device=device) * ((5 / 3) / np.sqrt(block_size * embeddings_len))\n",
    "weights1.requires_grad = True\n",
    "\n",
    "biases2 = torch.randn(len(all_symbols), device=device) * 0.01\n",
    "biases2.requires_grad = True\n",
    "\n",
    "weights2 = torch.randn((hidden_nodes, len(all_symbols)), device=device) * 0.01\n",
    "weights2.requires_grad = True\n",
    "\n",
    "parameters = [\n",
    "    C, \n",
    "    biases1, \n",
    "    weights1, \n",
    "    biases2, \n",
    "    weights2\n",
    "    ]"
   ]
  },
  {
   "cell_type": "code",
   "execution_count": 52,
   "metadata": {},
   "outputs": [],
   "source": [
    "class Introspector:\n",
    "    def __init__(self):\n",
    "        self.first_layer_activations = None\n",
    "        self.second_layer_activations = None\n",
    "        self.third_layer_activations = None"
   ]
  },
  {
   "cell_type": "code",
   "execution_count": 53,
   "metadata": {},
   "outputs": [],
   "source": [
    "introspector = Introspector()"
   ]
  },
  {
   "cell_type": "code",
   "execution_count": 54,
   "metadata": {},
   "outputs": [],
   "source": [
    "def create_model(X: torch.Tensor):\n",
    "    c = C[X]\n",
    "\n",
    "    first_layer_volume = c.view(X.shape[0], -1)\n",
    "    first_layer_activations = torch.tanh(first_layer_volume)\n",
    "\n",
    "    second_layer_volume = (first_layer_activations @ weights1) + biases1\n",
    "    second_layer_activations = torch.tanh(second_layer_volume)\n",
    "\n",
    "    third_layer_volume = (second_layer_activations @ weights2) + biases2\n",
    "    third_layer_activations = torch.softmax(third_layer_volume, 1)\n",
    "\n",
    "    introspector.first_layer_activations = first_layer_activations\n",
    "    introspector.second_layer_activations = second_layer_activations\n",
    "    introspector.third_layer_activations = third_layer_activations\n",
    "\n",
    "    return third_layer_activations\n",
    "\n",
    "def create_loss(predictions, actual):\n",
    "    return - predictions[range(len(predictions)), actual].log().mean()\n"
   ]
  },
  {
   "cell_type": "code",
   "execution_count": 55,
   "metadata": {},
   "outputs": [],
   "source": [
    "# device = torch.device('cuda', 0)\n",
    "device = torch.device('cpu')\n",
    "C, biases1, weights1, biases2, weights2, Xtr, ytr = move_to_device(\n",
    "    [\n",
    "        C,\n",
    "        biases1, \n",
    "        weights1, \n",
    "        biases2, \n",
    "        weights2,\n",
    "        Xtr, ytr\n",
    "    ],\n",
    "    device\n",
    ")"
   ]
  },
  {
   "cell_type": "code",
   "execution_count": 56,
   "metadata": {},
   "outputs": [
    {
     "name": "stdout",
     "output_type": "stream",
     "text": [
      "3.296905755996704\n"
     ]
    }
   ],
   "source": [
    "num_iters = 1000\n",
    "batch_size = 32\n",
    "lr = 0.01\n",
    "# lr = 0.01 * (batch_size // 32)\n",
    "\n",
    "ts = time.time()\n",
    "for num_iter in range(num_iters):\n",
    "    # get batch\n",
    "    indices = torch.randint(0, len(Xtr) - 1, (batch_size,))\n",
    "    batch_X = Xtr[indices]\n",
    "    batch_y = ytr[indices]\n",
    "    \n",
    "    # calculate loss\n",
    "    loss = create_loss(create_model(batch_X), batch_y)\n",
    "\n",
    "    # display loss\n",
    "    if (num_iter % 10) == 0:\n",
    "        print(loss.item())\n",
    "\n",
    "    # zerograd\n",
    "    for parameter_tensor in parameters:\n",
    "        parameter_tensor.grad = None\n",
    "\n",
    "    # backprop\n",
    "    loss.backward()\n",
    "    \n",
    "    # update weights\n",
    "    for parameter_tensor in parameters:\n",
    "        parameter_tensor.data -= lr * parameter_tensor.grad\n",
    "    break\n",
    "    print(f\"Average time per iteration: {(time.time() - ts) / (num_iter + 1) * 1000:.2f} ms\")"
   ]
  },
  {
   "cell_type": "code",
   "execution_count": 57,
   "metadata": {},
   "outputs": [
    {
     "name": "stdout",
     "output_type": "stream",
     "text": [
      "\"Expected\" loss: 3.295836866004329\n"
     ]
    }
   ],
   "source": [
    "print('\"Expected\" loss:', -np.log(1 / len(all_symbols)))"
   ]
  },
  {
   "cell_type": "code",
   "execution_count": 50,
   "metadata": {},
   "outputs": [
    {
     "name": "stderr",
     "output_type": "stream",
     "text": [
      "/tmp/ipykernel_4145982/1541678798.py:4: RuntimeWarning: divide by zero encountered in arctanh\n",
      "  ax[0].scatter(np.arctanh(acts), acts, marker='.')\n"
     ]
    },
    {
     "data": {
      "image/png": "[encoded data removed]",
      "text/plain": [
       "<Figure size 1000x400 with 2 Axes>"
      ]
     },
     "metadata": {},
     "output_type": "display_data"
    }
   ],
   "source": [
    "acts = introspector.second_layer_activations.detach().numpy().reshape(-1)\n",
    "fig, ax = plt.subplots(1, 2, figsize=(10, 4), sharey=True)\n",
    "fig.suptitle(\"Activations of second layer\")\n",
    "ax[0].scatter(np.arctanh(acts), acts, marker='.')\n",
    "ax[0].set_xlabel('logit')\n",
    "ax[0].set_ylabel('activation')\n",
    "ax[1].set_title('Histogram')\n",
    "ax[1].hist(acts, orientation='horizontal', bins=50)\n",
    "ax[1].set_ylabel('activation')\n",
    "plt.show()"
   ]
  },
  {
   "cell_type": "code",
   "execution_count": 168,
   "metadata": {},
   "outputs": [
    {
     "data": {
      "image/png": "[encoded data removed]",
      "text/plain": [
       "<Figure size 640x480 with 1 Axes>"
      ]
     },
     "metadata": {},
     "output_type": "display_data"
    }
   ],
   "source": [
    "s = introspector.third_layer_activations[range(len(batch_y)), batch_y]\n",
    "plt.figure()\n",
    "plt.hist(s.detach().numpy(), label='Observed softmax activations')\n",
    "plt.axvline(x=1/len(all_symbols), color='r', label='Expected softmax activation')\n",
    "plt.legend()\n",
    "plt.show()"
   ]
  },
  {
   "cell_type": "code",
   "execution_count": null,
   "metadata": {},
   "outputs": [],
   "source": [
    "# Batch size 1024 * 4\n",
    "# With GPU: 54 seconds\n",
    "# With CPU: 79 seconds"
   ]
  },
  {
   "cell_type": "code",
   "execution_count": 110,
   "metadata": {},
   "outputs": [],
   "source": [
    "def calc_loss(X, y):\n",
    "    loss = create_loss(create_model(X), y)\n",
    "    return loss.item()"
   ]
  },
  {
   "cell_type": "code",
   "execution_count": 112,
   "metadata": {},
   "outputs": [
    {
     "name": "stdout",
     "output_type": "stream",
     "text": [
      "Train loss = 2.164073944091797\n",
      "Validation loss = 2.217069149017334\n"
     ]
    }
   ],
   "source": [
    "tr_loss = calc_loss(Xtr, ytr)\n",
    "val_loss = calc_loss(Xval, yval)\n",
    "print(\"Train loss =\", tr_loss)\n",
    "print(\"Validation loss =\", val_loss)"
   ]
  },
  {
   "cell_type": "code",
   "execution_count": 81,
   "metadata": {},
   "outputs": [
    {
     "data": {
      "text/plain": [
       "False"
      ]
     },
     "execution_count": 81,
     "metadata": {},
     "output_type": "execute_result"
    }
   ],
   "source": [
    "torch.cuda.is_available()"
   ]
  },
  {
   "cell_type": "code",
   "execution_count": 23,
   "metadata": {},
   "outputs": [],
   "source": [
    "# embeddings(60) + concatenate(3) + tanh + linear + softmax\n",
    "# Train loss = 2.295232057571411\n",
    "# Validation loss = 2.3178176879882812\n",
    "\n",
    "# embeddings(60) + concatenate(3) + tanh + linear(10) + tanh + linear + softmax\n",
    "# Train loss = 2.39597487449646\n",
    "# Validation loss = 2.41440486907959\n",
    "\n",
    "# embeddings(60) + concatenate(3) + tanh + linear(30) + tanh + linear + softmax\n",
    "# Train loss = 2.303981065750122\n",
    "# Validation loss = 2.3325693607330322\n",
    "\n",
    "# embeddings(60) + concatenate(3) + tanh + linear(60) + tanh + linear + softmax\n",
    "# Train loss = 2.164073944091797\n",
    "# Validation loss = 2.217069149017334\n",
    "# And still decreases"
   ]
  },
  {
   "cell_type": "code",
   "execution_count": null,
   "metadata": {},
   "outputs": [],
   "source": []
  }
 ],
 "metadata": {
  "kernelspec": {
   "display_name": "base",
   "language": "python",
   "name": "python3"
  },
  "language_info": {
   "codemirror_mode": {
    "name": "ipython",
    "version": 3
   },
   "file_extension": ".py",
   "mimetype": "text/x-python",
   "name": "python",
   "nbconvert_exporter": "python",
   "pygments_lexer": "ipython3",
   "version": "3.10.9"
  },
  "orig_nbformat": 4
 },
 "nbformat": 4,
 "nbformat_minor": 2
}
