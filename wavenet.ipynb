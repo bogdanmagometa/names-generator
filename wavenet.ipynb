{
 "cells": [
  {
   "cell_type": "markdown",
   "metadata": {},
   "source": [
    "# Implement names generator\n",
    "\n",
    "Use architecture described in \"WaveNet ...\" by DeepMind"
   ]
  },
  {
   "cell_type": "code",
   "execution_count": null,
   "metadata": {
    "tags": []
   },
   "outputs": [],
   "source": [
    "import time\n",
    "import random\n",
    "\n",
    "import torch\n",
    "import matplotlib.pyplot as plt\n",
    "import numpy as np"
   ]
  },
  {
   "cell_type": "code",
   "execution_count": null,
   "metadata": {
    "tags": []
   },
   "outputs": [],
   "source": [
    "# plt.style.use('classic')\n",
    "plt.style.use('dark_background')"
   ]
  },
  {
   "cell_type": "code",
   "execution_count": null,
   "metadata": {
    "tags": []
   },
   "outputs": [],
   "source": [
    "torch.cuda.is_available()"
   ]
  },
  {
   "cell_type": "code",
   "execution_count": 4,
   "metadata": {
    "tags": []
   },
   "outputs": [],
   "source": [
    "def move_to_device(tensors, device):\n",
    "    new_tensors = [None] * len(tensors)\n",
    "    with torch.no_grad():\n",
    "        for idx, tensor in enumerate(tensors):\n",
    "            new_tensors[idx] = tensor.to(device, copy=True)\n",
    "    return new_tensors"
   ]
  },
  {
   "cell_type": "markdown",
   "metadata": {},
   "source": [
    "### Prepare dataset"
   ]
  },
  {
   "cell_type": "code",
   "execution_count": 5,
   "metadata": {
    "tags": []
   },
   "outputs": [],
   "source": [
    "with open('names.txt', 'r') as f:\n",
    "    random.seed(345)\n",
    "    words = f.read().splitlines()\n",
    "    random.shuffle(words)\n"
   ]
  },
  {
   "cell_type": "code",
   "execution_count": 6,
   "metadata": {
    "tags": []
   },
   "outputs": [],
   "source": [
    "block_size = 10"
   ]
  },
  {
   "cell_type": "code",
   "execution_count": 7,
   "metadata": {
    "tags": []
   },
   "outputs": [],
   "source": [
    "all_letters = set(sum((list(s) for s in words), []))"
   ]
  },
  {
   "cell_type": "code",
   "execution_count": 8,
   "metadata": {
    "tags": []
   },
   "outputs": [],
   "source": [
    "all_symbols = all_letters.union({'.'})\n",
    "stoi = {'.': 0}\n",
    "stoi.update({letter: idx for idx, letter in enumerate(all_letters, 1)})\n",
    "itos = {idx: letter for letter, idx in stoi.items()}\n",
    "\n",
    "# create dataset\n",
    "X = list()\n",
    "y = list()\n",
    "for word in words:\n",
    "    word = block_size * '.' + word + '.'\n",
    "    for idx in range(block_size, len(word)):\n",
    "        prev = word[(idx-block_size):idx]\n",
    "        X.append(list(stoi[s] for s in prev))\n",
    "        y.append(stoi[word[idx]])\n",
    "\n",
    "X = torch.tensor(X)\n",
    "y = torch.tensor(y)"
   ]
  },
  {
   "cell_type": "code",
   "execution_count": 9,
   "metadata": {
    "tags": []
   },
   "outputs": [],
   "source": [
    "def split_dataset(X, y):\n",
    "    total_len = X.shape[0]\n",
    "    \n",
    "    n1 = int(0.8 * total_len)\n",
    "    n2 = int(0.9 * total_len)\n",
    "\n",
    "    return (X[:n1], y[:n1]), (X[n1:n2], y[n1:n2]), (X[n2:], y[n2:])\n",
    "\n",
    "    # num_tr = round(0.6 * total_len)\n",
    "    # num_val = round(0.2 * total_len)\n",
    "    # num_test = total_len - num_tr - num_val\n",
    "    # idx_tr, idx_val, idx_test = torch.utils.data.random_split(range(X.shape[0]), [num_tr, num_val, num_test])\n",
    "    # return (X[idx_tr], y[idx_tr]), (X[idx_val], y[idx_val]), (X[idx_test], y[idx_test])"
   ]
  },
  {
   "cell_type": "code",
   "execution_count": 10,
   "metadata": {
    "tags": []
   },
   "outputs": [],
   "source": [
    "(Xtr, ytr), (Xval, yval), (Xtest, ytest) = split_dataset(X, y)"
   ]
  },
  {
   "cell_type": "code",
   "execution_count": 11,
   "metadata": {
    "tags": []
   },
   "outputs": [
    {
     "data": {
      "image/png": "[encoded data removed]",
      "text/plain": [
       "<Figure size 640x480 with 1 Axes>"
      ]
     },
     "metadata": {},
     "output_type": "display_data"
    }
   ],
   "source": [
    "_, ax = plt.subplots(1, 1)\n",
    "ax.set_title(\"Dataset split\")\n",
    "ax.set_xlabel(\"Partitions\")\n",
    "ax.set_ylabel(\"Number of samples\")\n",
    "ax.bar(['train', 'validation', 'test'], [len(Xtr), len(Xval), len(Xtest)])\n",
    "plt.show()"
   ]
  },
  {
   "cell_type": "markdown",
   "metadata": {},
   "source": [
    "### Define model class, loss and training loop"
   ]
  },
  {
   "cell_type": "code",
   "execution_count": 12,
   "metadata": {
    "tags": []
   },
   "outputs": [],
   "source": [
    "class Introspector:\n",
    "    def __init__(self):\n",
    "        self.first_layer_volume = None\n",
    "        self.second_layer_activations = None\n",
    "        self.third_layer_activations = None\n",
    "        \n",
    "        self.update_to_data_ratios = {}"
   ]
  },
  {
   "cell_type": "code",
   "execution_count": 45,
   "metadata": {
    "tags": []
   },
   "outputs": [],
   "source": [
    "class Embedding:\n",
    "    def __init__(self, vocab_size, embedding_len):\n",
    "        self.embedding_matr = torch.randn((vocab_size, embedding_len))\n",
    "\n",
    "    def __call__(self, X):\n",
    "        return self.embedding_matr[X]\n",
    "    \n",
    "    def parameters(self):\n",
    "        return [self.embedding_matr]\n",
    "\n",
    "class Flatten:\n",
    "    def __call__(self, X):\n",
    "        return X.view(X.shape[0], -1)\n",
    "    def parameters(self):\n",
    "        return []\n",
    "\n",
    "class Linear:\n",
    "    def __init__(self, prev_num_nodes, num_nodes):\n",
    "        self.biases = torch.ones((num_nodes,)) * 0.0001\n",
    "        self.weights = torch.randn(prev_num_nodes, num_nodes) / np.sqrt(prev_num_nodes)\n",
    "    def __call__(self, X):\n",
    "        out = (X @ self.weights) + self.biases\n",
    "        return out\n",
    "    def parameters(self):\n",
    "        return [self.biases, self.weights]\n",
    "\n",
    "class FuseConsecutive:\n",
    "    def __call__(self, X):\n",
    "        B, T, C = X.shape\n",
    "        assert T % 2 == 0\n",
    "        if T == 2:\n",
    "            return X.view(B, C * 2)\n",
    "        else:\n",
    "            return X.view(B, T // 2, C * 2)\n",
    "    def parameters(self):\n",
    "        return []\n",
    "\n",
    "class Tanh:\n",
    "    def __call__(self, X):\n",
    "        return torch.tanh(X)\n",
    "    def parameters(self):\n",
    "        return []\n",
    "\n",
    "class BatchNorm1D:\n",
    "    def __init__(self, num_nodes):\n",
    "        # Initialize parameters\n",
    "        self.gain = torch.ones(num_nodes)\n",
    "        self.bias = torch.zeros(num_nodes)\n",
    "        # Initialize buffers\n",
    "        self.running_mean = torch.zeros((1, num_nodes))\n",
    "        self.running_var = torch.ones((1, num_nodes))\n",
    "        # Other\n",
    "        self.training = True\n",
    "        self.momentum = 0.1\n",
    "    def __call__(self, X):\n",
    "        if self.training:\n",
    "            batch_mean = X.mean(axis=(0, 1), keepdim=True)\n",
    "            batch_var = X.var(axis=(0, 1), keepdim=True)\n",
    "            \n",
    "            with torch.no_grad():\n",
    "                self.running_mean = (1 - self.momentum) * self.running_mean + self.momentum * batch_mean\n",
    "                self.running_var = (1 - self.momentum) * self.running_var + self.momentum * batch_var\n",
    "            \n",
    "            normalized_X = (X - batch_mean) / (torch.sqrt(batch_var) + 1e-6)\n",
    "\n",
    "            return self.gain * normalized_X + self.bias\n",
    "        else:\n",
    "            normalized_X = (X - self.running_mean) / (np.sqrt(self.running_var) + 1e-6)\n",
    "            return self.gain * normalized_X + self.bias\n",
    "    def parameters(self):\n",
    "        return [self.bias, self.gain]\n"
   ]
  },
  {
   "cell_type": "code",
   "execution_count": 46,
   "metadata": {
    "tags": []
   },
   "outputs": [],
   "source": [
    "class Model:\n",
    "    def __init__(self):\n",
    "        # HPs\n",
    "        self.embeddings_len = 15\n",
    "        self.hidden_nodes1 = 100\n",
    "\n",
    "        # Initialize layers\n",
    "        self.layers = [\n",
    "            Embedding(len(all_symbols), self.embeddings_len),\n",
    "            FuseConsecutive(),\n",
    "            Linear(2 * self.embeddings_len, self.hidden_nodes1), BatchNorm1D(self.hidden_nodes1), \n",
    "            Tanh(),\n",
    "            FuseConsecutive(),\n",
    "            Linear(2 * self.hidden_nodes1, self.hidden_nodes1), BatchNorm1D(self.hidden_nodes1), \n",
    "            Tanh(),\n",
    "            FuseConsecutive(),\n",
    "            Linear(2 * self.hidden_nodes1, self.hidden_nodes1), BatchNorm1D(self.hidden_nodes1),\n",
    "            Tanh(),\n",
    "            FuseConsecutive(),\n",
    "            Linear(2 * self.hidden_nodes1, len(all_symbols))\n",
    "        ]\n",
    "        \n",
    "        self.layers[2].weights *= 5 / 3\n",
    "        self.layers[6].weights *= 5 / 3\n",
    "        self.layers[-1].weights *= 0.01\n",
    "        \n",
    "        for layer in self.layers:\n",
    "            for parameter in layer.parameters():\n",
    "                parameter.requires_grad = True\n",
    "\n",
    "        # Other\n",
    "        self.introspector = Introspector()\n",
    "        self.training = True\n",
    "\n",
    "    def create_preds(self, X):\n",
    "        for layer in self.layers:\n",
    "            layer.training = self.training\n",
    "        # self.layers[3].training = self.training\n",
    "        \n",
    "        for layer in self.layers:\n",
    "            X = layer(X)\n",
    "            # print(f\"{layer.__class__.__name__}: {X}\")\n",
    "            # if X.isnan().any():\n",
    "            #     return\n",
    "\n",
    "        # self.introspector.second_layer_activations = X.clone()\n",
    "\n",
    "        # for layer in self.layers[5:]:\n",
    "            # X = layer(X)\n",
    "\n",
    "        probs = torch.softmax(X, 1)\n",
    "\n",
    "        self.introspector.third_layer_activations = probs.clone()\n",
    "\n",
    "        return probs\n",
    "\n",
    "    def parameters(self):\n",
    "        return [p for layer in self.layers for p in layer.parameters()]\n",
    "\n",
    "    def move_to_device(self, device):\n",
    "        parameters = move_to_device(self.parameters(), device)\n",
    "        for p in parameters:\n",
    "            p.requires_grad = True\n",
    "        self.C, self.biases1, self.weights1, self.biases2, self.weights2 = parameters\n"
   ]
  },
  {
   "cell_type": "code",
   "execution_count": 47,
   "metadata": {
    "tags": []
   },
   "outputs": [],
   "source": [
    "def create_loss(predictions, actual):\n",
    "    return - predictions[range(len(predictions)), actual].log().mean()\n"
   ]
  },
  {
   "cell_type": "code",
   "execution_count": 49,
   "metadata": {
    "tags": []
   },
   "outputs": [],
   "source": [
    "def training_loop(model: Model, num_iters, batch_size, lr):\n",
    "    start_ts = time.time()\n",
    "    \n",
    "    print(f\"Iter #0\", )\n",
    "    with torch.no_grad():\n",
    "        train_loss = create_loss(model.create_preds(Xtr), ytr).item()\n",
    "        val_loss = create_loss(model.create_preds(Xval), yval).item()\n",
    "    print(f\"\\ttrain_loss = {train_loss:.2f}\")\n",
    "    print(f\"\\tval_loss = {val_loss:.2f}\\n\")\n",
    "\n",
    "    for num_iter in range(num_iters):\n",
    "        # get batch\n",
    "        indices = torch.randint(0, len(Xtr) - 1, (batch_size,))\n",
    "        batch_X = Xtr[indices]\n",
    "        batch_y = ytr[indices]\n",
    "        # batch_X = Xtr\n",
    "        # batch_y = ytr\n",
    "        \n",
    "        # calculate loss\n",
    "        loss = create_loss(model.create_preds(batch_X), batch_y)\n",
    "        reg_loss = 0\n",
    "        num_terms = 0\n",
    "        for layer in model.layers:\n",
    "            if isinstance(layer, Linear):\n",
    "                reg_loss = reg_loss + torch.sum(torch.square(layer.weights))\n",
    "                num_terms += layer.weights.nelement()\n",
    "        loss = loss + 5 * reg_loss / num_terms\n",
    "\n",
    "        # zerograd\n",
    "        for parameter_tensor in model.parameters():\n",
    "            parameter_tensor.grad = None\n",
    "\n",
    "        # backprop\n",
    "        loss.backward()\n",
    "\n",
    "        # update weights\n",
    "        ratios = model.introspector.update_to_data_ratios\n",
    "        for param_idx, parameter_tensor in enumerate(model.parameters()):\n",
    "            if parameter_tensor.ndim == 2:\n",
    "                ratio = (lr * parameter_tensor.grad).std() / parameter_tensor.data.std()\n",
    "                if param_idx in ratios:\n",
    "                    ratios[param_idx].append(ratio)\n",
    "                else:\n",
    "                    ratios[param_idx] = [ratio]\n",
    "            if parameter_tensor.grad.isnan().any():\n",
    "                print(f\"Gradient {param_idx} is None\")\n",
    "                return\n",
    "            parameter_tensor.data -= lr * parameter_tensor.grad\n",
    "\n",
    "        # display train and validation losses\n",
    "        if ((num_iter + 1) % 10_000) == 0:\n",
    "            print(f\"Iter #{num_iter+1}\", )\n",
    "            model.training = False\n",
    "            with torch.no_grad():\n",
    "                train_loss = create_loss(model.create_preds(Xtr), ytr).item()\n",
    "                val_loss = create_loss(model.create_preds(Xval), yval).item()\n",
    "            model.training = True\n",
    "            print(f\"\\ttrain_loss = {train_loss:.2f}\")\n",
    "            print(f\"\\tval_loss = {val_loss:.2f}\\n\")\n",
    "\n",
    "        # if time.time() - start_ts >= max_time:\n",
    "        #     break\n"
   ]
  },
  {
   "cell_type": "markdown",
   "metadata": {},
   "source": [
    "### Train the model"
   ]
  },
  {
   "cell_type": "code",
   "execution_count": 50,
   "metadata": {
    "tags": []
   },
   "outputs": [],
   "source": [
    "# Create model\n",
    "model = Model()\n",
    "\n",
    "# Move to device\n",
    "# device = torch.device('cuda', 0)\n",
    "device = torch.device('cpu')\n",
    "# model.move_to_device(device)\n",
    "# Xtr, ytr, Xval, yval = move_to_device(\n",
    "#     [\n",
    "#         Xtr, ytr, Xval, yval\n",
    "#     ],\n",
    "#     device\n",
    "# )"
   ]
  },
  {
   "cell_type": "code",
   "execution_count": 51,
   "metadata": {
    "tags": []
   },
   "outputs": [
    {
     "name": "stdout",
     "output_type": "stream",
     "text": [
      "lr = 0.05\n",
      "Iter #0\n",
      "\ttrain_loss = 3.30\n",
      "\tval_loss = 3.30\n",
      "\n",
      "Iter #10000\n",
      "\ttrain_loss = 2.13\n",
      "\tval_loss = 2.18\n",
      "\n",
      "Iter #20000\n",
      "\ttrain_loss = 2.07\n",
      "\tval_loss = 2.14\n",
      "\n",
      "Iter #30000\n",
      "\ttrain_loss = 2.03\n",
      "\tval_loss = 2.12\n",
      "\n",
      "Iter #40000\n",
      "\ttrain_loss = 2.01\n",
      "\tval_loss = 2.10\n",
      "\n",
      "Iter #50000\n",
      "\ttrain_loss = 2.00\n",
      "\tval_loss = 2.10\n",
      "\n",
      "Iter #60000\n",
      "\ttrain_loss = 1.99\n",
      "\tval_loss = 2.10\n",
      "\n",
      "Iter #70000\n",
      "\ttrain_loss = 1.97\n",
      "\tval_loss = 2.09\n",
      "\n",
      "Iter #80000\n",
      "\ttrain_loss = 1.97\n",
      "\tval_loss = 2.09\n",
      "\n",
      "Iter #90000\n",
      "\ttrain_loss = 1.97\n",
      "\tval_loss = 2.09\n",
      "\n",
      "Iter #100000\n",
      "\ttrain_loss = 1.95\n",
      "\tval_loss = 2.08\n",
      "\n",
      "lr = 0.01\n",
      "Iter #0\n",
      "\ttrain_loss = 1.94\n",
      "\tval_loss = 2.08\n",
      "\n",
      "Iter #10000\n",
      "\ttrain_loss = 1.87\n",
      "\tval_loss = 2.03\n",
      "\n",
      "Iter #20000\n",
      "\ttrain_loss = 1.86\n",
      "\tval_loss = 2.03\n",
      "\n",
      "Iter #30000\n",
      "\ttrain_loss = 1.85\n",
      "\tval_loss = 2.03\n",
      "\n",
      "Iter #40000\n",
      "\ttrain_loss = 1.85\n",
      "\tval_loss = 2.03\n",
      "\n",
      "Iter #50000\n",
      "\ttrain_loss = 1.85\n",
      "\tval_loss = 2.03\n",
      "\n",
      "lr = 0.001\n",
      "Iter #0\n",
      "\ttrain_loss = 1.84\n",
      "\tval_loss = 2.03\n",
      "\n",
      "Iter #10000\n",
      "\ttrain_loss = 1.83\n",
      "\tval_loss = 2.02\n",
      "\n",
      "Iter #20000\n",
      "\ttrain_loss = 1.82\n",
      "\tval_loss = 2.02\n",
      "\n",
      "Iter #30000\n",
      "\ttrain_loss = 1.82\n",
      "\tval_loss = 2.02\n",
      "\n",
      "Iter #40000\n",
      "\ttrain_loss = 1.82\n",
      "\tval_loss = 2.02\n",
      "\n",
      "lr = 0.0001\n",
      "Iter #0\n",
      "\ttrain_loss = 1.82\n",
      "\tval_loss = 2.02\n",
      "\n",
      "Iter #10000\n",
      "\ttrain_loss = 1.82\n",
      "\tval_loss = 2.02\n",
      "\n",
      "Iter #20000\n",
      "\ttrain_loss = 1.82\n",
      "\tval_loss = 2.02\n",
      "\n"
     ]
    }
   ],
   "source": [
    "model.training = True\n",
    "batch_size = 32\n",
    "\n",
    "lr = 0.05\n",
    "print(f\"lr = {lr}\")\n",
    "training_loop(model, 100_000, batch_size, lr)\n",
    "\n",
    "lr = 0.01\n",
    "print(f\"lr = {lr}\")\n",
    "training_loop(model, 50_000, batch_size, lr)\n",
    "\n",
    "lr = 0.001\n",
    "print(f\"lr = {lr}\")\n",
    "training_loop(model, 40_000, batch_size, lr)\n",
    "\n",
    "lr = 0.0001\n",
    "print(f\"lr = {lr}\")\n",
    "training_loop(model, 20_000, batch_size, lr)\n"
   ]
  },
  {
   "cell_type": "code",
   "execution_count": 53,
   "metadata": {},
   "outputs": [
    {
     "name": "stdout",
     "output_type": "stream",
     "text": [
      "Training loss: 1.82\n",
      "Validation loss: 2.02\n",
      "Test loss: 1.98\n"
     ]
    }
   ],
   "source": [
    "model.training = False\n",
    "with torch.no_grad():\n",
    "    train_loss = create_loss(model.create_preds(Xtr), ytr)\n",
    "    val_loss = create_loss(model.create_preds(Xval), yval)\n",
    "    test_loss = create_loss(model.create_preds(Xtest), ytest)\n",
    "print(f\"Training loss: {train_loss.item():.2f}\")\n",
    "print(f\"Validation loss: {val_loss.item():.2f}\")\n",
    "print(f\"Test loss: {test_loss.item():.2f}\")"
   ]
  },
  {
   "cell_type": "markdown",
   "metadata": {},
   "source": [
    "1. Model 1\n",
    "- code\n",
    "```python\n",
    "# Batch norm is broken\n",
    "block_size=4\n",
    "embedding_len = 15\n",
    "hidden_nodes=400\n",
    "Embedding(len(all_symbols), self.embeddings_len),\n",
    "FuseConsecutive(),\n",
    "Linear(2 * self.embeddings_len, self.hidden_nodes1), BatchNorm1D(self.hidden_nodes1), Tanh(),\n",
    "FuseConsecutive(),\n",
    "Linear(2 * self.hidden_nodes1, len(all_symbols))\n",
    "```\n",
    "- metrics:\n",
    "```\n",
    "train_loss = 2.08\n",
    "val_loss = 2.13\n",
    "```\n",
    "\n",
    "2. Model 2\n",
    "- code\n",
    "```python\n",
    "block_size=8\n",
    "        # HPs\n",
    "        self.embeddings_len = 15\n",
    "        self.hidden_nodes1 = 100\n",
    "\n",
    "        # Initialize layers\n",
    "        self.layers = [\n",
    "            Embedding(len(all_symbols), self.embeddings_len),\n",
    "            FuseConsecutive(),\n",
    "            Linear(2 * self.embeddings_len, self.hidden_nodes1), BatchNorm1D(self.hidden_nodes1), \n",
    "            Tanh(),\n",
    "            FuseConsecutive(),\n",
    "            Linear(2 * self.hidden_nodes1, self.hidden_nodes1), BatchNorm1D(self.hidden_nodes1), \n",
    "            Tanh(),\n",
    "            FuseConsecutive(),\n",
    "            Linear(2 * self.hidden_nodes1, len(all_symbols))\n",
    "        ]\n",
    "```\n",
    "- metrics:\n",
    "```\n",
    "train_loss = 1.86\n",
    "val_loss = 2.03\n",
    "```\n",
    "\n",
    "3. Model 3\n",
    "- code\n",
    "```python\n",
    "block_size=16\n",
    "        # HPs\n",
    "        self.embeddings_len = 15\n",
    "        self.hidden_nodes1 = 100\n",
    "\n",
    "        # Initialize layers\n",
    "        self.layers = [\n",
    "            Embedding(len(all_symbols), self.embeddings_len),\n",
    "            FuseConsecutive(),\n",
    "            Linear(2 * self.embeddings_len, self.hidden_nodes1), BatchNorm1D(self.hidden_nodes1), \n",
    "            Tanh(),\n",
    "            FuseConsecutive(),\n",
    "            Linear(2 * self.hidden_nodes1, self.hidden_nodes1), BatchNorm1D(self.hidden_nodes1), \n",
    "            Tanh(),\n",
    "            FuseConsecutive(),\n",
    "            Linear(2 * self.hidden_nodes1, self.hidden_nodes1), BatchNorm1D(self.hidden_nodes1),\n",
    "            Tanh(),\n",
    "            FuseConsecutive(),\n",
    "            Linear(2 * self.hidden_nodes1, len(all_symbols))\n",
    "        ]\n",
    "```\n",
    "- metrics:\n",
    "```\n",
    "train_loss = 1.81\n",
    "val_loss = 2.02\n",
    "```\n",
    "4. Model 4\n",
    "- code\n",
    "```python\n",
    "block_size=16\n",
    "        # HPs\n",
    "        self.embeddings_len = 15\n",
    "        self.hidden_nodes1 = 200\n",
    "\n",
    "        # Initialize layers\n",
    "        self.layers = [\n",
    "            Embedding(len(all_symbols), self.embeddings_len),\n",
    "            FuseConsecutive(),\n",
    "            Linear(2 * self.embeddings_len, self.hidden_nodes1), BatchNorm1D(self.hidden_nodes1), \n",
    "            Tanh(),\n",
    "            FuseConsecutive(),\n",
    "            Linear(2 * self.hidden_nodes1, self.hidden_nodes1), BatchNorm1D(self.hidden_nodes1), \n",
    "            Tanh(),\n",
    "            FuseConsecutive(),\n",
    "            Linear(2 * self.hidden_nodes1, self.hidden_nodes1), BatchNorm1D(self.hidden_nodes1),\n",
    "            Tanh(),\n",
    "            FuseConsecutive(),\n",
    "            Linear(2 * self.hidden_nodes1, len(all_symbols))\n",
    "        ]\n",
    "```\n",
    "- metrics\n",
    "```\n",
    "train_loss = 1.67\n",
    "val_loss = 2.02\n",
    "```\n",
    "5. Same as model 3, but with L2 regularization (lambda = 1)\n",
    "- metrics\n",
    "```\n",
    "train_loss = 1.82\n",
    "val_loss = 2.02\n",
    "```\n"
   ]
  },
  {
   "cell_type": "code",
   "execution_count": 19,
   "metadata": {
    "tags": []
   },
   "outputs": [
    {
     "data": {
      "image/png": "[encoded data removed]",
      "text/plain": [
       "<Figure size 2000x400 with 1 Axes>"
      ]
     },
     "metadata": {},
     "output_type": "display_data"
    }
   ],
   "source": [
    "ratios = model.introspector.update_to_data_ratios\n",
    "\n",
    "plt.figure(figsize=(20, 4))\n",
    "for param_idx in ratios:\n",
    "    plt.plot([np.log10(ratio) for ratio in ratios[param_idx]], label=f\"parameter {param_idx}\")\n",
    "\n",
    "plt.ylabel('Log of update to data ratio')\n",
    "plt.legend()\n",
    "plt.show()"
   ]
  },
  {
   "cell_type": "code",
   "execution_count": null,
   "metadata": {},
   "outputs": [],
   "source": []
  }
 ],
 "metadata": {
  "kernelspec": {
   "display_name": "Python 3 (ipykernel)",
   "language": "python",
   "name": "python3"
  },
  "language_info": {
   "codemirror_mode": {
    "name": "ipython",
    "version": 3
   },
   "file_extension": ".py",
   "mimetype": "text/x-python",
   "name": "python",
   "nbconvert_exporter": "python",
   "pygments_lexer": "ipython3",
   "version": "3.10.9"
  }
 },
 "nbformat": 4,
 "nbformat_minor": 4
}
